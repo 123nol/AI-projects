{
  "cells": [
    {
      "cell_type": "markdown",
      "metadata": {
        "id": "view-in-github",
        "colab_type": "text"
      },
      "source": [
        "<a href=\"https://colab.research.google.com/github/123nol/AI-projects/blob/main/Copy_of_fcc_predict_health_costs_with_regression.ipynb\" target=\"_parent\"><img src=\"https://colab.research.google.com/assets/colab-badge.svg\" alt=\"Open In Colab\"/></a>"
      ]
    },
    {
      "cell_type": "code",
      "execution_count": null,
      "metadata": {
        "id": "1rRo8oNqZ-Rj"
      },
      "outputs": [],
      "source": [
        "# Import libraries. You may or may not use all of these.\n",
        "!pip install -q git+https://github.com/tensorflow/docs\n",
        "import matplotlib.pyplot as plt\n",
        "import numpy as np\n",
        "import pandas as pd\n",
        "from sklearn.model_selection import train_test_split\n",
        "\n",
        "try:\n",
        "  # %tensorflow_version only exists in Colab.\n",
        "  %tensorflow_version 2.x\n",
        "except Exception:\n",
        "  pass\n",
        "import tensorflow as tf\n",
        "\n",
        "from tensorflow import keras\n",
        "# from tensorflow.keras import layers\n",
        "\n",
        "import tensorflow_docs as tfdocs\n",
        "import tensorflow_docs.plots\n",
        "import tensorflow_docs.modeling"
      ]
    },
    {
      "cell_type": "code",
      "execution_count": null,
      "metadata": {
        "id": "CiX2FI4gZtTt"
      },
      "outputs": [],
      "source": [
        "# Import data\n",
        "!wget https://cdn.freecodecamp.org/project-data/health-costs/insurance.csv\n",
        "dataset = pd.read_csv('insurance.csv')\n",
        "dataset.tail()"
      ]
    },
    {
      "cell_type": "code",
      "execution_count": null,
      "metadata": {
        "id": "LcopvQh3X-kX"
      },
      "outputs": [],
      "source": [
        "def vectorizeDataSet(dataset):\n",
        "  dataset_copy=dataset.copy()\n",
        "  sex_type=dataset_copy['sex'].unique()\n",
        "  sex_lookup={x:idx for idx,x in enumerate(sex_type)}\n",
        "  dataset_copy['int_sex']=dataset_copy['sex'].map(sex_lookup)\n",
        "  smoker_lookup={\"yes\":1, \"no\":0 }\n",
        "  dataset_copy['int_smoker']=dataset_copy['smoker'].map(smoker_lookup)\n",
        "  unique_region=dataset_copy['region'].unique()\n",
        "  region_lookup={x:idx for idx,x in enumerate(unique_region)}\n",
        "  dataset_copy['int_region']=dataset_copy['region'].map(region_lookup)\n",
        "  dataset_copy.drop(['sex','smoker','region'], axis=1, inplace=True)\n",
        "  Y_train=dataset_copy['expenses']\n",
        "  X_train=dataset_copy.drop(['expenses'],axis=1).values\n",
        "  x_train,x_test,y_train,y_test=train_test_split(X_train,Y_train,test_size=0.2,random_state=35)\n",
        "  training_dataset=tf.data.Dataset.from_tensor_slices((x_train,y_train)).shuffle(buffer_size=1000).batch(32)\n",
        "  test_dataset=tf.data.Dataset.from_tensor_slices((x_test,y_test)).shuffle(buffer_size=1000).batch(32)\n",
        "  return training_dataset,test_dataset,dataset_copy,x_test,y_test,X_train,x_train,y_train\n",
        "\n",
        "\n",
        "\n",
        "\n",
        "\n"
      ]
    },
    {
      "cell_type": "code",
      "source": [
        "\n",
        "\n",
        "training_dataset,whole_test_dataset,dataset_copy,test_dataset,test_labels,x_train,train_ds,train_label=vectorizeDataSet(dataset)\n",
        "normalizer=tf.keras.layers.Normalization(axis=-1)\n",
        "normalizer.adapt(x_train)\n",
        "\n",
        "model=tf.keras.Sequential([\n",
        "        tf.keras.layers.Input(shape=(6,)),\n",
        "        normalizer,\n",
        "        tf.keras.layers.Dense(64,activation=\"relu\")\n",
        "        tf.keras.layers.Dense(32,activation=\"relu\")\n",
        "\n",
        "        tf.keras.layers.Dense(units=1,activation=None)\n",
        "]\n",
        ")\n",
        "\n",
        "model.compile(\n",
        "   optimizer=tf.keras.optimizers.Adam(learning_rate=0.001), loss='mean_squared_error',\n",
        "    metrics=['mae','mse']\n",
        "    )\n",
        "model.summary()\n",
        "\n",
        "\n",
        "\n",
        "history=model.fit(\n",
        "    train_ds,\n",
        "    train_label,\n",
        "    batch_size=32,\n",
        "\n",
        "\n",
        "    epochs=20\n",
        ")\n",
        "\n",
        "\n"
      ],
      "metadata": {
        "id": "8J664HDM_M19"
      },
      "execution_count": null,
      "outputs": []
    },
    {
      "cell_type": "code",
      "source": [],
      "metadata": {
        "id": "-UpkTzarIO5R"
      },
      "execution_count": null,
      "outputs": []
    },
    {
      "cell_type": "code",
      "execution_count": null,
      "metadata": {
        "id": "Xe7RXH3N3CWU"
      },
      "outputs": [],
      "source": [
        "# RUN THIS CELL TO TEST YOUR MODEL. DO NOT MODIFY CONTENTS.\n",
        "# Test model by checking how well the model generalizes using the test set.\n",
        "loss, mae, mse = model.evaluate(test_dataset, test_labels, verbose=2)\n",
        "\n",
        "print(\"Testing set Mean Abs Error: {:5.2f} expenses\".format(mae))\n",
        "\n",
        "if mae < 3500:\n",
        "  print(\"You passed the challenge. Great job!\")\n",
        "else:\n",
        "  print(\"The Mean Abs Error must be less than 3500. Keep trying.\")\n",
        "\n",
        "# Plot predictions.\n",
        "test_predictions = model.predict(test_dataset).flatten()\n",
        "\n",
        "a = plt.axes(aspect='equal')\n",
        "plt.scatter(test_labels, test_predictions)\n",
        "plt.xlabel('True values (expenses)')\n",
        "plt.ylabel('Predictions (expenses)')\n",
        "lims = [0, 50000]\n",
        "plt.xlim(lims)\n",
        "plt.ylim(lims)\n",
        "_ = plt.plot(lims,lims)\n"
      ]
    }
  ],
  "metadata": {
    "colab": {
      "private_outputs": true,
      "provenance": [],
      "toc_visible": true,
      "gpuType": "T4",
      "include_colab_link": true
    },
    "kernelspec": {
      "display_name": "Python 3",
      "name": "python3"
    },
    "accelerator": "GPU"
  },
  "nbformat": 4,
  "nbformat_minor": 0
}