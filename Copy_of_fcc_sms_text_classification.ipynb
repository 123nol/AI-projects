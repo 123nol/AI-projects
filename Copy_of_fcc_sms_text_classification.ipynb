{
  "cells": [
    {
      "cell_type": "markdown",
      "metadata": {
        "id": "view-in-github",
        "colab_type": "text"
      },
      "source": [
        "<a href=\"https://colab.research.google.com/github/123nol/AI-projects/blob/main/Copy_of_fcc_sms_text_classification.ipynb\" target=\"_parent\"><img src=\"https://colab.research.google.com/assets/colab-badge.svg\" alt=\"Open In Colab\"/></a>"
      ]
    },
    {
      "cell_type": "code",
      "execution_count": null,
      "metadata": {
        "id": "8RZOuS9LWQvv"
      },
      "outputs": [],
      "source": [
        "# import libraries\n",
        "try:\n",
        "  # %tensorflow_version only exists in Colab.\n",
        "  !pip install tf-nightly\n",
        "except Exception:\n",
        "  pass\n",
        "import tensorflow as tf\n",
        "import pandas as pd\n",
        "from tensorflow import keras\n",
        "!pip install tensorflow-datasets\n",
        "import tensorflow_datasets as tfds\n",
        "\n",
        "import numpy as np\n",
        "import matplotlib.pyplot as plt\n",
        "from tensorflow.keras.layers import TextVectorization\n",
        "from tensorflow.keras import layers\n",
        "\n",
        "print(tf.__version__)"
      ]
    },
    {
      "cell_type": "code",
      "execution_count": null,
      "metadata": {
        "id": "lMHwYXHXCar3"
      },
      "outputs": [],
      "source": [
        "# get data files\n",
        "!wget https://cdn.freecodecamp.org/project-data/sms/train-data.tsv\n",
        "!wget https://cdn.freecodecamp.org/project-data/sms/valid-data.tsv\n",
        "\n",
        "train_file_path = \"train-data.tsv\"\n",
        "test_file_path = \"valid-data.tsv\"\n"
      ]
    },
    {
      "cell_type": "code",
      "execution_count": null,
      "metadata": {
        "id": "g_h508FEClxO"
      },
      "outputs": [],
      "source": [
        "\n",
        "\n",
        "def createModel(train_dataset, test_dataset):\n",
        "    # Create vectorizer\n",
        "    vectorizer_layer = TextVectorization(\n",
        "        max_tokens=10000,\n",
        "        output_mode=\"tf-idf\"\n",
        "    )\n",
        "\n",
        "    # Prepare training data\n",
        "    category_map = {\"ham\": 0, \"spam\": 1}\n",
        "    X_train = train_dataset['message'].values\n",
        "    Y_train = train_dataset['category'].map(category_map).values\n",
        "\n",
        "    # Prepare test data\n",
        "    X_test = test_dataset['message'].values\n",
        "    Y_test = test_dataset['category'].map(category_map).values\n",
        "\n",
        "    # Create TF datasets\n",
        "    train_tf_dataset = tf.data.Dataset.from_tensor_slices((X_train, Y_train)).shuffle(buffer_size=1000).batch(32)\n",
        "    test_tf_dataset = tf.data.Dataset.from_tensor_slices((X_test, Y_test)).batch(32)\n",
        "\n",
        "    # Adapt vectorizer to training data only\n",
        "    vectorizer_layer.adapt(X_train)\n",
        "\n",
        "    # Create model\n",
        "    model = tf.keras.Sequential([\n",
        "        vectorizer_layer,\n",
        "        layers.Dense(64, activation=\"relu\"),\n",
        "        layers.Dropout(0.2),\n",
        "        layers.Dense(32, activation=\"relu\"),\n",
        "        layers.Dropout(0.2),\n",
        "        layers.Dense(1, activation=\"sigmoid\")\n",
        "    ])\n",
        "\n",
        "    # Compile model\n",
        "    model.compile(optimizer=\"Adam\",\n",
        "                 loss=\"binary_crossentropy\",\n",
        "                 metrics=['accuracy'])\n",
        "\n",
        "    # Train model\n",
        "    history = model.fit(\n",
        "        train_tf_dataset,\n",
        "        epochs=20,\n",
        "        validation_data=test_tf_dataset\n",
        "    )\n",
        "\n",
        "\n",
        "    test_loss, test_accuracy = model.evaluate(test_tf_dataset)\n",
        "    print(f\"Test Loss: {test_loss:.4f}\")\n",
        "    print(f\"Test Accuracy: {test_accuracy:.4f}\")\n",
        "\n",
        "    return model  # Return both model and vectorizer\n",
        "\n",
        "\n",
        "train_dataset = pd.read_csv(train_file_path, sep='\\t', names=['category', 'message'])\n",
        "test_dataset = pd.read_csv(test_file_path, sep=\"\\t\", names=['category', 'message'])\n",
        "\n",
        "\n",
        "model = createModel(train_dataset, test_dataset)\n"
      ]
    },
    {
      "cell_type": "code",
      "execution_count": null,
      "metadata": {
        "id": "zOMKywn4zReN"
      },
      "outputs": [],
      "source": [
        "def predicte(model, pred_text):\n",
        "    # Convert text to tensor\n",
        "    pred_text = tf.constant([pred_text])\n",
        "\n",
        "    # Make prediction\n",
        "    pred = model.predict(pred_text).flatten()\n",
        "\n",
        "    # Convert prediction to label\n",
        "    prediction = [\"spam\" if p > 0.5 else \"ham\" for p in pred]\n",
        "\n",
        "    return float(pred[0]),prediction[0]\n"
      ]
    },
    {
      "cell_type": "code",
      "execution_count": null,
      "metadata": {
        "id": "J9tD9yACG6M9"
      },
      "outputs": [],
      "source": [
        "# function to predict messages based on model\n",
        "# (should return list containing prediction and label, ex. [0.008318834938108921, 'ham'])\n",
        "def predict_message(pred_text):\n",
        "  a,b=predicte(model,pred_text)\n",
        "\n",
        "\n",
        "\n",
        "  return [a,b]\n",
        "\n",
        "pred_text = \"how are you doing today?\"\n",
        "\n",
        "prediction = predict_message(pred_text)\n",
        "print(prediction)"
      ]
    },
    {
      "cell_type": "code",
      "execution_count": null,
      "metadata": {
        "id": "Dxotov85SjsC"
      },
      "outputs": [],
      "source": [
        "# Run this cell to test your function and model. Do not modify contents.\n",
        "def test_predictions():\n",
        "  test_messages = [\"how are you doing today\",\n",
        "                   \"sale today! to stop texts call 98912460324\",\n",
        "                   \"i dont want to go. can we try it a different day? available sat\",\n",
        "                   \"our new mobile video service is live. just install on your phone to start watching.\",\n",
        "                   \"you have won £1000 cash! call to claim your prize.\",\n",
        "                   \"i'll bring it tomorrow. don't forget the milk.\",\n",
        "                   \"wow, is your arm alright. that happened to me one time too\"\n",
        "                  ]\n",
        "\n",
        "  test_answers = [\"ham\", \"spam\", \"ham\", \"spam\", \"spam\", \"ham\", \"ham\"]\n",
        "  passed = True\n",
        "\n",
        "  for msg, ans in zip(test_messages, test_answers):\n",
        "    prediction = predict_message(msg)\n",
        "    if prediction[1] != ans:\n",
        "      passed = False\n",
        "\n",
        "  if passed:\n",
        "    print(\"You passed the challenge. Great job!\")\n",
        "  else:\n",
        "    print(\"You haven't passed yet. Keep trying.\")\n",
        "\n",
        "test_predictions()\n"
      ]
    }
  ],
  "metadata": {
    "colab": {
      "private_outputs": true,
      "provenance": [],
      "include_colab_link": true
    },
    "kernelspec": {
      "display_name": "Python 3",
      "name": "python3"
    },
    "language_info": {}
  },
  "nbformat": 4,
  "nbformat_minor": 0
}